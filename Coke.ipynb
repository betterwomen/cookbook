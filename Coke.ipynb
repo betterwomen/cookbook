{
 "cells": [
  {
   "cell_type": "code",
   "execution_count": 74,
   "metadata": {},
   "outputs": [
    {
     "name": "stdout",
     "output_type": "stream",
     "text": [
      "(76803709, 134217728)\n",
      "489.8756306171417\n"
     ]
    }
   ],
   "source": [
    "import time\n",
    "\n",
    "def P(n, c1, c2):\n",
    "    if n == 0:\n",
    "        return int(c1 == f1 and c2 == f2)\n",
    "    elif n > 0:\n",
    "        if c1 == 0:\n",
    "            return P(n-1, 0, c2+1) + 1/2*P(n-1, 1, c2)\n",
    "        if c2 == 0:\n",
    "            return P(n-1, c1+1, 0) + 1/2*P(n-1, c1, 1)\n",
    "        elif c1 > 0 and c2 > 0:\n",
    "            return 1/2*P(n-1, c1+1, c2) + 1/2*P(n-1, c1, c2+1)\n",
    "f1 = 15\n",
    "f2 = 16\n",
    "n = f1+f2-1\n",
    "\n",
    "t0 = time.time()    \n",
    "print(P(n, 0, 1).as_integer_ratio())\n",
    "t1 = time.time()\n",
    "print(t1-t0)"
   ]
  }
 ],
 "metadata": {
  "kernelspec": {
   "display_name": "Python 3",
   "language": "python",
   "name": "python3"
  },
  "language_info": {
   "codemirror_mode": {
    "name": "ipython",
    "version": 3
   },
   "file_extension": ".py",
   "mimetype": "text/x-python",
   "name": "python",
   "nbconvert_exporter": "python",
   "pygments_lexer": "ipython3",
   "version": "3.8.1"
  }
 },
 "nbformat": 4,
 "nbformat_minor": 2
}
