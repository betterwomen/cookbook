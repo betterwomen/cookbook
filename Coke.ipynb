{
 "cells": [
  {
   "cell_type": "code",
   "execution_count": 74,
   "metadata": {},
   "outputs": [
    {
     "name": "stdout",
     "output_type": "stream",
     "text": [
      "(76803709, 134217728)\n",
      "489.8756306171417\n"
     ]
    }
   ],
   "source": [
    "import time\n",
    "\n",
    "\n",
    "def P(n, c1, c2):\n",
    "    if n == 0:\n",
    "        return int(c1 == f1 and c2 == f2)\n",
    "    elif n > 0:\n",
    "        if c1 == 0:\n",
    "            return P(n-1, 0, c2+1) + 1/2*P(n-1, 1, c2)\n",
    "        if c2 == 0:\n",
    "            return P(n-1, c1+1, 0) + 1/2*P(n-1, c1, 1)\n",
    "        elif c1 > 0 and c2 > 0:\n",
    "            return 1/2*P(n-1, c1+1, c2) + 1/2*P(n-1, c1, c2+1)\n",
    "f1 = 15\n",
    "f2 = 16\n",
    "n = f1+f2-1\n",
    "# for ii in range(15):\n",
    "#     f1 = ii + 1 \n",
    "#     f2 = ii + 2\n",
    "#     n = f1+f2-1\n",
    "t0 = time.time()    \n",
    "print(P(n, 0, 1).as_integer_ratio())\n",
    "t1 = time.time()\n",
    "print(t1-t0)"
   ]
  },
  {
   "cell_type": "code",
   "execution_count": 65,
   "metadata": {},
   "outputs": [
    {
     "data": {
      "text/plain": [
       "8"
      ]
     },
     "execution_count": 65,
     "metadata": {},
     "output_type": "execute_result"
    }
   ],
   "source": [
    "import math\n",
    "def series(n):\n",
    "    r = 2**(2*n+1)\n",
    "    return r\n",
    "series(1)"
   ]
  },
  {
   "cell_type": "code",
   "execution_count": 4,
   "metadata": {},
   "outputs": [
    {
     "data": {
      "text/plain": [
       "1.6649535512937594"
      ]
     },
     "execution_count": 4,
     "metadata": {},
     "output_type": "execute_result"
    }
   ],
   "source": [
    "489*4**15/(10000*86400*365)"
   ]
  }
 ],
 "metadata": {
  "kernelspec": {
   "display_name": "Python 3",
   "language": "python",
   "name": "python3"
  },
  "language_info": {
   "codemirror_mode": {
    "name": "ipython",
    "version": 3
   },
   "file_extension": ".py",
   "mimetype": "text/x-python",
   "name": "python",
   "nbconvert_exporter": "python",
   "pygments_lexer": "ipython3",
   "version": "3.8.1"
  }
 },
 "nbformat": 4,
 "nbformat_minor": 2
}
